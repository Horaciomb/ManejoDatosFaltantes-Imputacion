{
 "cells": [
  {
   "cell_type": "markdown",
   "metadata": {
    "cell_id": "eb28bd9073944de3bad47f63a3f22c8f",
    "deepnote_cell_height": 70,
    "deepnote_cell_type": "markdown",
    "tags": []
   },
   "source": [
    "## Importar librerías"
   ]
  },
  {
   "cell_type": "code",
   "execution_count": 1,
   "metadata": {
    "cell_id": "f830648cf8544872bd1ffd508bec7d14",
    "deepnote_cell_type": "code",
    "deepnote_to_be_reexecuted": false,
    "execution_millis": 4176,
    "execution_start": 1659038357650,
    "output_cleared": true,
    "source_hash": "accb08f2",
    "tags": []
   },
   "outputs": [],
   "source": [
    "import janitor\n",
    "import nhanes.load\n",
    "import numpy as np\n",
    "import pandas as pd\n",
    "import missingno"
   ]
  },
  {
   "cell_type": "markdown",
   "metadata": {
    "cell_id": "f67f5447177d4d04a1c9cd5f108ba0da",
    "deepnote_cell_height": 70,
    "deepnote_cell_type": "markdown",
    "tags": []
   },
   "source": [
    "## Importar funciones personalizadas"
   ]
  },
  {
   "cell_type": "code",
   "execution_count": 2,
   "metadata": {
    "cell_id": "a767a63ea3414836a1fa4136ca72f7a4",
    "deepnote_cell_type": "code",
    "deepnote_to_be_reexecuted": false,
    "execution_millis": 132,
    "execution_start": 1659038361834,
    "output_cleared": true,
    "source_hash": "6ec9e095",
    "tags": []
   },
   "outputs": [],
   "source": [
    "%run pandas-missing-extension.ipynb"
   ]
  },
  {
   "cell_type": "markdown",
   "metadata": {
    "cell_id": "97414bf1c06a4eb8ad255cf964a9f691",
    "deepnote_cell_height": 70,
    "deepnote_cell_type": "markdown",
    "tags": []
   },
   "source": [
    "## Cargar los datos de NHANES"
   ]
  },
  {
   "cell_type": "code",
   "execution_count": 6,
   "metadata": {
    "cell_id": "78b3557c0f664ebaae15f9217eeded56",
    "deepnote_cell_type": "code",
    "deepnote_to_be_reexecuted": false,
    "execution_millis": 496,
    "execution_start": 1659038361972,
    "output_cleared": true,
    "source_hash": "5621fb47",
    "tags": []
   },
   "outputs": [
    {
     "data": {
      "text/plain": [
       "(8366, 197)"
      ]
     },
     "execution_count": 6,
     "metadata": {},
     "output_type": "execute_result"
    }
   ],
   "source": [
    "nhanes_raw_df=nhanes.load.load_NHANES_data(year=\"2017-2018\").clean_names(case_type=\"snake\")\n",
    "nhanes_raw_df.shape"
   ]
  },
  {
   "cell_type": "code",
   "execution_count": 12,
   "metadata": {},
   "outputs": [
    {
     "data": {
      "text/plain": [
       "['general_health_condition',\n",
       " 'ever_breastfed_or_fed_breastmilk',\n",
       " 'age_stopped_breastfeedingdays',\n",
       " 'age_first_fed_formuladays',\n",
       " 'age_stopped_receiving_formuladays',\n",
       " 'age_started_other_foodbeverage',\n",
       " 'age_first_fed_milkdays',\n",
       " 'type_of_milk_first_fed_whole_milk',\n",
       " 'type_of_milk_first_fed2_milk',\n",
       " 'type_of_milk_first_fed1_milk',\n",
       " 'type_of_milk_first_fed_fat_free_milk',\n",
       " 'type_of_milk_first_fed_soy_milk',\n",
       " 'type_of_milk_first_fed_other',\n",
       " 'how_healthy_is_the_diet',\n",
       " 'past30_day_milk_product_consumption',\n",
       " 'you_drink_whole_or_regular_milk',\n",
       " 'you_drink2_fat_milk',\n",
       " 'you_drink1_fat_milk',\n",
       " 'you_drink_fat_freeskim_milk',\n",
       " 'you_drink_soy_milk',\n",
       " 'you_drink_another_type_of_milk',\n",
       " 'regular_milk_use5_times_per_week',\n",
       " 'how_often_drank_milk_age512',\n",
       " 'how_often_drank_milk_age1317',\n",
       " 'how_often_drank_milk_age1835',\n",
       " 'communitygovernment_meals_delivered',\n",
       " 'eat_meals_at_communitysenior_center',\n",
       " 'attend_kindergarten_thru_high_school',\n",
       " 'school_serves_school_lunches',\n",
       " 'of_timesweek_get_school_lunch',\n",
       " 'school_lunch_free_reduced_or_full_price',\n",
       " 'school_serve_complete_breakfast_each_day',\n",
       " 'of_timesweek_get_school_breakfast',\n",
       " 'school_breakfast_freereducedfull_price',\n",
       " 'summer_program_meal_freereduced_price',\n",
       " 'of_meals_not_home_prepared',\n",
       " 'of_meals_from_fast_food_or_pizza_place',\n",
       " 'of_readytoeat_foods_in_past30_days',\n",
       " 'of_frozen_mealspizza_in_past30_days',\n",
       " 'heard_of_my_plate',\n",
       " 'looked_up_my_plate_on_internet',\n",
       " 'tried_my_plate_plan',\n",
       " 'main_meal_plannerpreparer',\n",
       " 'shared_meal_planningpreparing_duty',\n",
       " 'main_food_shopper',\n",
       " 'shared_food_shopping_duty',\n",
       " 'have_serious_difficulty_hearing',\n",
       " 'have_serious_difficulty_seeing',\n",
       " 'have_serious_difficulty_concentrating',\n",
       " 'have_serious_difficulty_walking',\n",
       " 'have_difficulty_dressing_or_bathing',\n",
       " 'have_difficulty_doing_errands_alone',\n",
       " 'how_often_do_you_feel_worried_or_anxious',\n",
       " 'take_medication_for_these_feelings',\n",
       " 'how_often_do_you_feel_depressed',\n",
       " 'take_medication_for_depression',\n",
       " 'covered_by_health_insurance',\n",
       " 'usual_sleep_time_on_weekdays_or_workdays',\n",
       " 'usual_wake_time_on_weekdays_or_workdays',\n",
       " 'sleep_hours_weekdays_or_workdays',\n",
       " 'how_often_do_you_snore',\n",
       " 'ever_told_doctor_had_trouble_sleeping',\n",
       " 'how_often_feel_overly_sleepy_during_day',\n",
       " 'have_little_interest_in_doing_things',\n",
       " 'feeling_down_depressed_or_hopeless',\n",
       " 'trouble_sleeping_or_sleeping_too_much',\n",
       " 'feeling_tired_or_having_little_energy',\n",
       " 'poor_appetite_or_overeating',\n",
       " 'feeling_bad_about_yourself',\n",
       " 'trouble_concentrating_on_things',\n",
       " 'moving_or_speaking_slowly_or_too_fast',\n",
       " 'thought_you_would_be_better_off_dead',\n",
       " 'difficulty_these_problems_have_caused',\n",
       " 'smoked_tobacco_last5_days',\n",
       " 'days_smoked_cigarettes_last5_days',\n",
       " 'cigarettes_smoked_per_day',\n",
       " 'used_any_tobacco_product_last5_days',\n",
       " 'experience_confusionmemory_problems',\n",
       " 'physical_mental_emotional_limitations',\n",
       " 'difficulty_managing_money',\n",
       " '60_sec_hr30_sec_hr2',\n",
       " '60_sec_pulse30_sec_pulse2',\n",
       " 'systolic_blood_pres1_st_rdg_mm_hg',\n",
       " 'diastolic_blood_pres1_st_rdg_mm_hg',\n",
       " 'systolic_blood_pres2_nd_rdg_mm_hg',\n",
       " 'diastolic_blood_pres2_nd_rdg_mm_hg',\n",
       " 'systolic_blood_pres3_rd_rdg_mm_hg',\n",
       " 'diastolic_blood_pres3_rd_rdg_mm_hg',\n",
       " 'energy_kcal_dr2_tot',\n",
       " 'protein_gm_dr2_tot',\n",
       " 'carbohydrate_gm_dr2_tot',\n",
       " 'total_sugars_gm_dr2_tot',\n",
       " 'dietary_fiber_gm_dr2_tot',\n",
       " 'total_fat_gm_dr2_tot',\n",
       " 'total_saturated_fatty_acids_gm_dr2_tot',\n",
       " 'total_monounsaturated_fatty_acids_gm_dr2_tot',\n",
       " 'total_polyunsaturated_fatty_acids_gm_dr2_tot',\n",
       " 'cholesterol_mg_dr2_tot',\n",
       " 'alcohol_gm_dr2_tot',\n",
       " 'weight_kg',\n",
       " 'recumbent_length_cm',\n",
       " 'standing_height_cm',\n",
       " 'body_mass_index_kgm2',\n",
       " 'waist_circumference_cm',\n",
       " 'direct_hdlcholesterol_mgdl',\n",
       " 'total_cholesterol_mgdl',\n",
       " 'vigorous_work_activity',\n",
       " 'moderate_work_activity',\n",
       " 'walk_or_bicycle',\n",
       " 'vigorous_recreational_activities',\n",
       " 'moderate_recreational_activities',\n",
       " 'minutes_sedentary_activity',\n",
       " 'ever_been_told_you_have_asthma',\n",
       " 'doctor_ever_said_you_had_arthritis',\n",
       " 'ever_told_you_had_heart_attack',\n",
       " 'age_when_told_you_had_heart_attack',\n",
       " 'ever_told_you_had_a_stroke',\n",
       " 'age_when_told_you_had_a_stroke',\n",
       " 'ever_told_you_had_cancer_or_malignancy',\n",
       " '1_st_cancer_what_kind_was_it',\n",
       " 'age1_st_cancer_mcq230_a_diagnosed',\n",
       " 'ever_used_marijuana_or_hashish',\n",
       " 'days_used_marijuana_or_hashishmonth',\n",
       " 'ever_used_cocaineheroinmethamphetamine',\n",
       " 'ever_use_any_form_of_cocaine',\n",
       " 'of_days_used_cocainemonth',\n",
       " 'ever_used_heroin',\n",
       " 'of_days_used_heroinmonth',\n",
       " 'ever_used_methamphetamine',\n",
       " 'days_used_methamphetaminemonth',\n",
       " 'ever_been_in_rehabilitation_program',\n",
       " 'blood_lead_ugdl',\n",
       " 'blood_cadmium_ugl',\n",
       " 'blood_mercury_total_ugl',\n",
       " 'blood_selenium_ugl',\n",
       " 'blood_manganese_ugl',\n",
       " 'gender',\n",
       " 'age_in_years_at_screening',\n",
       " 'age_in_months_at_screening0_to24_mos',\n",
       " 'racehispanic_origin',\n",
       " 'racehispanic_origin_w_nh_asian',\n",
       " 'served_active_duty_in_us_armed_forces',\n",
       " 'education_level_childrenyouth619',\n",
       " 'education_level_adults20',\n",
       " 'marital_status',\n",
       " 'total_number_of_people_in_the_household',\n",
       " 'total_number_of_people_in_the_family',\n",
       " 'of_children5_years_or_younger_in_hh',\n",
       " 'of_children617_years_old_in_hh',\n",
       " 'of_adults60_years_or_older_in_hh',\n",
       " 'annual_household_income',\n",
       " 'annual_family_income',\n",
       " 'ratio_of_family_income_to_poverty',\n",
       " 'trunk_fat_g',\n",
       " 'trunk_percent_fat',\n",
       " 'total_percent_fat',\n",
       " 'how_often_add_salt_to_food_at_table',\n",
       " 'on_special_diet',\n",
       " 'weight_losslow_calorie_diet',\n",
       " 'low_fatlow_cholesterol_diet',\n",
       " 'low_saltlow_sodium_diet',\n",
       " 'diabetic_diet',\n",
       " 'low_carbohydrate_diet',\n",
       " 'energy_kcal_dr1_tot',\n",
       " 'protein_gm_dr1_tot',\n",
       " 'carbohydrate_gm_dr1_tot',\n",
       " 'total_sugars_gm_dr1_tot',\n",
       " 'dietary_fiber_gm_dr1_tot',\n",
       " 'total_fat_gm_dr1_tot',\n",
       " 'total_saturated_fatty_acids_gm_dr1_tot',\n",
       " 'total_monounsaturated_fatty_acids_gm_dr1_tot',\n",
       " 'total_polyunsaturated_fatty_acids_gm_dr1_tot',\n",
       " 'cholesterol_mg_dr1_tot',\n",
       " 'alcohol_gm_dr1_tot',\n",
       " 'tuna_eaten_during_past30_days',\n",
       " 'doctor_told_you_have_diabetes',\n",
       " 'age_when_first_told_you_had_diabetes',\n",
       " 'ever_told_you_have_prediabetes',\n",
       " 'ever_told_have_health_risk_for_diabetes',\n",
       " 'family_history',\n",
       " 'taking_insulin_now',\n",
       " 'take_diabetic_pills_to_lower_blood_sugar',\n",
       " 'what_was_your_last_a1_c_level',\n",
       " 'glycohemoglobin',\n",
       " 'smoked_at_least100_cigarettes_in_life',\n",
       " 'age_started_smoking_cigarettes_regularly',\n",
       " 'do_you_now_smoke_cigarettes',\n",
       " 'days_smoked_cigs_during_past30_days',\n",
       " 'avg_cigarettesday_during_past30_days',\n",
       " 'tried_to_quit_smoking',\n",
       " 'times_stopped_smoking_cigarettes',\n",
       " 'how_long_were_you_able_to_stop_smoking',\n",
       " 'unit_of_measure_dayweekmonthyear_2_smq',\n",
       " 'current_selfreported_height_inches',\n",
       " 'current_selfreported_weight_pounds',\n",
       " 'tried_to_lose_weight_in_past_year',\n",
       " 'times_lost10_lbs_or_more_to_lose_weight']"
      ]
     },
     "execution_count": 12,
     "metadata": {},
     "output_type": "execute_result"
    }
   ],
   "source": [
    "nhanes_raw_df.columns.to_list()"
   ]
  },
  {
   "cell_type": "markdown",
   "metadata": {
    "cell_id": "c467e4d4f4514cb69e5ce2115f6a35a4",
    "deepnote_cell_height": 70,
    "deepnote_cell_type": "markdown",
    "tags": []
   },
   "source": [
    "## Procesar los datos de NHANES"
   ]
  },
  {
   "cell_type": "code",
   "execution_count": 32,
   "metadata": {
    "cell_id": "c9c758ceafa846f1bcf850d5844ddfeb",
    "deepnote_cell_type": "code",
    "deepnote_to_be_reexecuted": false,
    "execution_millis": 1394,
    "execution_start": 1659038362445,
    "output_cleared": true,
    "source_hash": "d670f361",
    "tags": []
   },
   "outputs": [
    {
     "name": "stderr",
     "output_type": "stream",
     "text": [
      "d:\\Platzi\\ManejoDatosFaltantes\\Imputacion\\venv\\Lib\\site-packages\\pandas_flavor\\register.py:157: FutureWarning: This function will be deprecated in a 1.x release. Please use `jn.select` instead.\n",
      "  return method(self._obj, *args, **kwargs)\n",
      "d:\\Platzi\\ManejoDatosFaltantes\\Imputacion\\venv\\Lib\\site-packages\\pandas_flavor\\register.py:157: FutureWarning: This function will be deprecated in a 1.x release. Please use `pd.DataFrame.rename` instead.\n",
      "  return method(self._obj, *args, **kwargs)\n"
     ]
    }
   ],
   "source": [
    "nhanes_df=nhanes_raw_df.select_columns(\n",
    "    \"general_health_condition\",\n",
    "    \"age_in_years_at_screening\",\n",
    "    \"gender\",\n",
    "    \"current_selfreported_height_inches\",\n",
    "    \"current_selfreported_weight_pounds\",\n",
    "    \"doctor_told_you_have_diabetes\",\n",
    "    \"60_sec_pulse30_sec_pulse2\",\n",
    "    \"total_cholesterol_mgdl\"\n",
    ").rename_columns(\n",
    "    {\n",
    "        \"age_in_years_at_screening\":\"age\",\n",
    "        \"current_selfreported_height_inches\":\"height\",\n",
    "        \"current_selfreported_weight_pounds\":\"weight\",\n",
    "        \"doctor_told_you_have_diabetes\":\"diabetes\",\n",
    "        \"60_sec_pulse30_sec_pulse2\":\"pulse\",\n",
    "        \"total_cholesterol_mgdl\":\"total_cholesterol\"\n",
    "    }\n",
    ").replace(\n",
    "    {\n",
    "        \"height\":{\n",
    "            9999:np.nan,\n",
    "            7777:np.nan,\n",
    "        },\n",
    "        \"weight\":{\n",
    "            9999:np.nan,\n",
    "            7777:np.nan,\n",
    "        },\n",
    "        \"diabetes\":{\n",
    "            \"Borderline\":np.nan\n",
    "        }\n",
    "    }\n",
    ").missing.sort_variables_by_missingness().dropna(\n",
    "    subset=[\"diabetes\"],\n",
    "    how='any'\n",
    ").transform_column(\n",
    "    column_name=\"diabetes\",\n",
    "    function= lambda s: s.astype(int),\n",
    "    elementwise=False\n",
    ")\n",
    "nhanes_df"
   ]
  },
  {
   "cell_type": "markdown",
   "metadata": {
    "cell_id": "40b22368094349ec8d227f0bd3114651",
    "deepnote_cell_height": 70,
    "deepnote_cell_type": "markdown",
    "tags": []
   },
   "source": [
    "## Visualizar los valores faltantes"
   ]
  },
  {
   "cell_type": "code",
   "execution_count": 34,
   "metadata": {
    "cell_id": "a388378d8c074860ba5376cc97c18f27",
    "deepnote_cell_type": "code",
    "deepnote_to_be_reexecuted": false,
    "execution_millis": 1334,
    "execution_start": 1659038362528,
    "output_cleared": true,
    "source_hash": "ab1d57a6",
    "tags": []
   },
   "outputs": [
    {
     "data": {
      "text/plain": [
       "<Axes: >"
      ]
     },
     "execution_count": 34,
     "metadata": {},
     "output_type": "execute_result"
    },
    {
     "data": {
      "image/png": "[encoded data removed]",
      "text/plain": [
       "<Figure size 2500x1000 with 2 Axes>"
      ]
     },
     "metadata": {},
     "output_type": "display_data"
    }
   ],
   "source": [
    "nhanes_df.missing.sort_variables_by_missingness().pipe(\n",
    "    missingno.matrix, sort=\"descending\"\n",
    ")"
   ]
  },
  {
   "cell_type": "code",
   "execution_count": null,
   "metadata": {
    "cell_id": "69dcbaa87c354cb4bf91ffc0a09e6ba8",
    "deepnote_cell_type": "code",
    "deepnote_to_be_reexecuted": false,
    "execution_millis": 32,
    "execution_start": 1659038363847,
    "output_cleared": true,
    "source_hash": "822aa40e",
    "tags": []
   },
   "outputs": [],
   "source": []
  },
  {
   "cell_type": "code",
   "execution_count": null,
   "metadata": {
    "cell_id": "5d6fcd63f0ea449697362bcd331f8e5d",
    "deepnote_cell_type": "code",
    "deepnote_to_be_reexecuted": false,
    "execution_millis": 522,
    "execution_start": 1659038363863,
    "output_cleared": true,
    "source_hash": "373b8de",
    "tags": []
   },
   "outputs": [],
   "source": []
  },
  {
   "cell_type": "markdown",
   "metadata": {
    "cell_id": "a39edae7cc61460b9f45d0d0b03085c8",
    "deepnote_cell_height": 70,
    "deepnote_cell_type": "markdown",
    "tags": []
   },
   "source": [
    "## Eliminar valores faltantes"
   ]
  },
  {
   "cell_type": "code",
   "execution_count": null,
   "metadata": {
    "cell_id": "d72a194ed209455882108be436746fe9",
    "deepnote_cell_type": "code",
    "deepnote_to_be_reexecuted": false,
    "execution_millis": 21,
    "execution_start": 1659038364403,
    "output_cleared": true,
    "owner_user_id": "bc32f83c-a807-4a78-8769-dff22df5fe36",
    "source_hash": "8e5422e7",
    "tags": []
   },
   "outputs": [],
   "source": []
  },
  {
   "cell_type": "markdown",
   "metadata": {
    "created_in_deepnote_cell": true,
    "deepnote_cell_type": "markdown"
   },
   "source": [
    "<a style='text-decoration:none;line-height:16px;display:flex;color:#5B5B62;padding:10px;justify-content:end;' href='https://deepnote.com?utm_source=created-in-deepnote-cell&projectId=bdf84ff9-f66c-44c7-a67c-ca1115a2b683' target=\"_blank\">\n",
    "<img alt='Created in deepnote.com' style='display:inline;max-height:16px;margin:0px;margin-right:7.5px;' src='data:image/svg+xml;base64,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' > </img>\n",
    "Created in <span style='font-weight:600;margin-left:4px;'>Deepnote</span></a>"
   ]
  }
 ],
 "metadata": {
  "deepnote_notebook_id": "716009e716c944a58f09ee33f054c3dc",
  "kernelspec": {
   "display_name": "venv",
   "language": "python",
   "name": "python3"
  },
  "language_info": {
   "codemirror_mode": {
    "name": "ipython",
    "version": 3
   },
   "file_extension": ".py",
   "mimetype": "text/x-python",
   "name": "python",
   "nbconvert_exporter": "python",
   "pygments_lexer": "ipython3",
   "version": "3.11.4"
  }
 },
 "nbformat": 4,
 "nbformat_minor": 0
}
